{
 "cells": [
  {
   "cell_type": "markdown",
   "metadata": {
    "id": "IY-_Zy_b71lD"
   },
   "source": [
    "# Implementation of MCP Neuron for AND and OR Function."
   ]
  },
  {
   "cell_type": "code",
   "execution_count": 1,
   "metadata": {
    "id": "Fu-YDOe_8GJi"
   },
   "outputs": [],
   "source": [
    "def MCP_Neurons_AND(X1, X2, T):\n",
    "  \"\"\"\n",
    "  This functions implements basic AND operations with MCP Neuron for two inputs.\n",
    "  Arguments:\n",
    "  Inputs:\n",
    "  X1 (1 nd array): An array of binary values.\n",
    "  X2 (1 nd array): An array of binary values.\n",
    "  Output:\n",
    "  state_neuron(1D-list): An state of neuron 1 0r 0 for the particular inputs.\n",
    "  \"\"\"\n",
    "  assert len(X1) == len(X2)\n",
    "  ### YOUR CODE HERE ###\n",
    "  state_neuron = []\n",
    "\n",
    "  sum = [X1 + X2 for X1, X2 in zip(X1,X2)]\n",
    "\n",
    "  state_neuron = [ 1 if s >= T else 0 for s in sum]\n",
    "  # Perform an element wise addition of two input arrays stored in a new array(list):\n",
    "  # Create a new array to put all the prediction let's name that a state_neuron.\n",
    "  # Append 1 in sate_neuron if sum (element) of above list is above Threshold else append 0.\n",
    "\n",
    "\n",
    "\n",
    "  return state_neuron"
   ]
  },
  {
   "cell_type": "code",
   "execution_count": 2,
   "metadata": {
    "colab": {
     "base_uri": "https://localhost:8080/"
    },
    "id": "e2-lKfat8ocN",
    "outputId": "7b06a952-31d4-49c4-b36c-994bac9f413d"
   },
   "outputs": [
    {
     "name": "stdout",
     "output_type": "stream",
     "text": [
      "Output of AND gate for inputs [0, 0, 1, 1] and [0, 1, 0, 1] with threshold 2: [0, 0, 0, 1]\n"
     ]
    }
   ],
   "source": [
    "# Example usage for MCP_Neurons_AND function\n",
    "X1 = [0, 0, 1, 1]\n",
    "X2 = [0, 1, 0, 1]\n",
    "T = 2  # Threshold value\n",
    "\n",
    "# Call the MCP_Neurons_AND function\n",
    "result = MCP_Neurons_AND(X1, X2, T)\n",
    "\n",
    "# Print the result\n",
    "print(f\"Output of AND gate for inputs {X1} and {X2} with threshold {T}: {result}\")\n"
   ]
  },
  {
   "cell_type": "code",
   "execution_count": 3,
   "metadata": {
    "id": "7xaMXlLT9FHC"
   },
   "outputs": [],
   "source": [
    "def MCP_Neurons_OR(X1, X2, T):\n",
    "    \"\"\"\n",
    "    This function implements basic OR operations with MCP Neuron for two inputs.\n",
    "    Arguments:\n",
    "    Inputs:\n",
    "    X1 (1D array): An array of binary values.\n",
    "    X2 (1D array): An array of binary values.\n",
    "    Output:\n",
    "    state_neuron (1D list): The state of the neuron (1 or 0) for the particular inputs.\n",
    "    \"\"\"\n",
    "    assert len(X1) == len(X2)\n",
    "    ### YOUR CODE HERE ###\n",
    "    sum = [X1 + X2 for X1, X2 in zip(X1,X2)]\n",
    "    state_neuron = [ 1 if s >= T else 0 for s in sum]\n",
    "    \n",
    "    # Perform an element wise addition of two input arrays stored in a new array(list):\n",
    "    # Create a new array to put all the prediction let's name that a state_neuron.\n",
    "    # Append 1 in sate_neuron if sum (element) of above list is above Threshold else append 0.\n",
    "\n",
    "    return state_neuron\n"
   ]
  },
  {
   "cell_type": "code",
   "execution_count": null,
   "metadata": {
    "colab": {
     "base_uri": "https://localhost:8080/"
    },
    "id": "6H-YOy268_Jo",
    "outputId": "dacbda9b-185b-46d8-ac5e-eb0287a99ddf"
   },
   "outputs": [
    {
     "name": "stdout",
     "output_type": "stream",
     "text": [
      "Output of OR gate for inputs [0, 0, 1, 1] and [0, 1, 0, 1] with threshold 1: [0, 1, 1, 1]\n"
     ]
    }
   ],
   "source": [
    "# Example usage for MCP_Neurons_OR function\n",
    "X1 = [0, 0, 1, 1]\n",
    "X2 = [0, 1, 0, 1]\n",
    "T = 1  # Threshold value for OR gate\n",
    "\n",
    "# Call the MCP_Neurons_OR function\n",
    "result_or = MCP_Neurons_OR(X1, X2, T)\n",
    "\n",
    "# Print the result\n",
    "print(f\"Output of OR gate for inputs {X1} and {X2} with threshold {T}: {result_or}\")\n"
   ]
  },
  {
   "cell_type": "markdown",
   "metadata": {
    "id": "Apa9bfLIFJHe"
   },
   "source": [
    "# Implementation for 0 Vs. 1 Classification."
   ]
  },
  {
   "cell_type": "markdown",
   "metadata": {
    "id": "iom83mGLFP_1"
   },
   "source": [
    "## Step 1: Load the Dataset"
   ]
  },
  {
   "cell_type": "code",
   "execution_count": 4,
   "metadata": {
    "colab": {
     "base_uri": "https://localhost:8080/"
    },
    "id": "7rkW58ct9IYq",
    "outputId": "15351fcc-8af8-4741-9486-d8521c2e785a"
   },
   "outputs": [
    {
     "name": "stdout",
     "output_type": "stream",
     "text": [
      "Feature matrix shape: (12665, 784)\n",
      "Label vector shape: (12665,)\n"
     ]
    }
   ],
   "source": [
    "import pandas as pd\n",
    "import numpy as np\n",
    "import matplotlib.pyplot as plt\n",
    "\n",
    "\n",
    "# Load the dataset\n",
    "df_0_1 = pd.read_csv(\"mnist_0_and_1.csv\")  # Add the correct file path if necessary\n",
    "\n",
    "# Extract features and labels\n",
    "X = df_0_1.drop(columns=[\"label\"]).values  # 784 pixels\n",
    "y = df_0_1[\"label\"].values  # Labels (0 or 1)\n",
    "\n",
    "# Check the shape of the features and labels\n",
    "print(\"Feature matrix shape:\", X.shape)\n",
    "print(\"Label vector shape:\", y.shape)\n"
   ]
  },
  {
   "cell_type": "markdown",
   "metadata": {
    "id": "jlq0EY2jHheD"
   },
   "source": [
    "### Viewing the Dataset."
   ]
  },
  {
   "cell_type": "code",
   "execution_count": 5,
   "metadata": {
    "colab": {
     "base_uri": "https://localhost:8080/",
     "height": 451
    },
    "id": "XKY2qjhCHAZ7",
    "outputId": "2bbc962a-b272-4795-a839-f7b96250c52f"
   },
   "outputs": [
    {
     "data": {
      "image/png": "[encoded data removed]",
      "text/plain": [
       "<Figure size 1000x500 with 10 Axes>"
      ]
     },
     "metadata": {},
     "output_type": "display_data"
    }
   ],
   "source": [
    "# Separate images for label 0 and label 1\n",
    "images_0 = X[y == 0]  # Get all images with label 0\n",
    "images_1 = X[y == 1]  # Get all images with label 1\n",
    "\n",
    "fig, axes = plt.subplots(2, 5, figsize=(10, 5))\n",
    "\n",
    "# Check if the arrays have the required amount of data\n",
    "if len(images_0) < 5 or len(images_1) < 5:\n",
    "    print(\"Error: Not enough images in images_0 or images_1 to plot 5 images.\")\n",
    "else:\n",
    "    for i in range(5):\n",
    "        # Plot digit 0\n",
    "        axes[0, i].imshow(images_0[i].reshape(28, 28), cmap=\"gray\")\n",
    "        axes[0, i].set_title(\"Label: 0\")\n",
    "        axes[0, i].axis(\"off\")\n",
    "        # Plot digit 1\n",
    "        axes[1, i].imshow(images_1[i].reshape(28, 28), cmap=\"gray\")\n",
    "        axes[1, i].set_title(\"Label: 1\")\n",
    "        axes[1, i].axis(\"off\")\n",
    "    plt.suptitle(\"First 5 Images of 0 and 1 from MNIST Subset\")\n",
    "    plt.show()"
   ]
  },
  {
   "cell_type": "markdown",
   "metadata": {
    "id": "qyM34tbHIqGi"
   },
   "source": [
    "## Step - 2 - Initializing the Weights:"
   ]
  },
  {
   "cell_type": "code",
   "execution_count": 6,
   "metadata": {
    "id": "SMsXaZ38HfBI"
   },
   "outputs": [],
   "source": [
    "# Initialize weights and bias\n",
    "weights = np.zeros(X.shape[1])  # 784 weights (one for each pixel)\n",
    "bias = 0\n",
    "learning_rate = 0.1\n",
    "epochs = 100"
   ]
  },
  {
   "cell_type": "markdown",
   "metadata": {
    "id": "EvraDxaeRVeo"
   },
   "source": [
    "## Step - 3 - Make a Decision function:"
   ]
  },
  {
   "cell_type": "code",
   "execution_count": 7,
   "metadata": {
    "id": "6uVj75txLWQi"
   },
   "outputs": [],
   "source": [
    "import numpy as np\n",
    "\n",
    "def decision_function(X, weights, bias):\n",
    "    \"\"\"\n",
    "    Compute the predicted labels for the input data.\n",
    "\n",
    "    Parameters:\n",
    "    - X: Features (input data) as a numpy array of shape (n_samples, n_features)\n",
    "    - weights: Updated weights after training\n",
    "    - bias: Updated bias after training\n",
    "\n",
    "    Returns:\n",
    "    - y_pred_all: The predicted labels for the input data\n",
    "    \"\"\"\n",
    "    predictions = np.dot(X, weights) + bias\n",
    "    y_pred_all = np.where(predictions >= 0,1,0)\n",
    "    #####Your Code Here############  # Activation function (step function)\n",
    "    return y_pred_all"
   ]
  },
  {
   "cell_type": "markdown",
   "metadata": {
    "id": "AVZNGyRdI4I4"
   },
   "source": [
    "## Step - 3 - Implement the Perceptron Learning Algorithm"
   ]
  },
  {
   "cell_type": "code",
   "execution_count": 8,
   "metadata": {
    "id": "Dg1ocrycJWpA"
   },
   "outputs": [],
   "source": [
    "def train_perceptron(X, y, weights, bias, learning_rate=0.1, epochs=100):\n",
    "    \"\"\"\n",
    "    Train the perceptron using the Perceptron Learning Algorithm.\n",
    "\n",
    "    Parameters:\n",
    "    - X: Features (input data) as a numpy array of shape (n_samples, n_features)\n",
    "    - y: Labels (true output) as a numpy array of shape (n_samples,)\n",
    "    - weights: Initial weights as a numpy array of shape (n_features,)\n",
    "    - bias: Initial bias value (scalar)\n",
    "    - learning_rate: Learning rate for weight updates (default is 0.1)\n",
    "    - epochs: Number of iterations to train the model (default is 100)\n",
    "\n",
    "    Returns:\n",
    "    - weights: Updated weights after training\n",
    "    - bias: Updated bias after training\n",
    "    - accuracy: Total correct prediction.\n",
    "    \"\"\"\n",
    "    # Step 3: Perceptron Learning Algorithm\n",
    "    # Your Code here#\n",
    "    n_samples = X.shape[0]\n",
    "\n",
    "    for epoch in range(epochs):\n",
    "        correct_predictions = 0\n",
    "\n",
    "        for i in range(n_samples):\n",
    "            output = np.dot(X[i], weights) + bias\n",
    "            prediction = 1 if output >= 0 else 0 \n",
    "\n",
    "            if prediction != y[i]: \n",
    "                update = y[i] - prediction\n",
    "                weights += learning_rate * update * X[i]\n",
    "                bias += learning_rate * update\n",
    "            else:\n",
    "                correct_predictions += 1\n",
    "        \n",
    "        accuracy = correct_predictions / n_samples\n",
    "\n",
    "        if epoch % 10 == 0 or epoch == epochs - 1:\n",
    "            print(f\"Epoch {epoch + 1}/{epochs} - Accuracy: {accuracy:.4f}\")\n",
    "\n",
    "    return weights, bias, accuracy"
   ]
  },
  {
   "cell_type": "markdown",
   "metadata": {
    "id": "Va6AGI6iMAG9"
   },
   "source": [
    "## Training the Perceptron"
   ]
  },
  {
   "cell_type": "code",
   "execution_count": null,
   "metadata": {
    "colab": {
     "base_uri": "https://localhost:8080/"
    },
    "id": "cn8XBYuZLswI",
    "outputId": "68bd509b-6ae3-4347-9bc5-8bc1ea1bcdf2"
   },
   "outputs": [
    {
     "name": "stdout",
     "output_type": "stream",
     "text": [
      "Epoch 10: Accuracy = 1.0000\n",
      "Epoch 20: Accuracy = 1.0000\n",
      "Epoch 30: Accuracy = 1.0000\n",
      "Epoch 40: Accuracy = 1.0000\n",
      "Epoch 50: Accuracy = 1.0000\n",
      "Epoch 60: Accuracy = 1.0000\n",
      "Epoch 70: Accuracy = 1.0000\n",
      "Epoch 80: Accuracy = 1.0000\n",
      "Epoch 90: Accuracy = 1.0000\n",
      "Epoch 100: Accuracy = 1.0000\n",
      "The Final Accuracy is:  1.0\n"
     ]
    }
   ],
   "source": [
    "# After training the model with the perceptron_learning_algorithm\n",
    "weights, bias, accuracy = train_perceptron(X, y, weights, bias)\n",
    "\n",
    "# Evaluate the model using the new function\n",
    "print(\"The Final Accuracy is: \", accuracy)"
   ]
  },
  {
   "cell_type": "markdown",
   "metadata": {
    "id": "-SLq1jbSMKPm"
   },
   "source": [
    "## Step 5: Visualize Misclassified Images"
   ]
  },
  {
   "cell_type": "code",
   "execution_count": null,
   "metadata": {
    "colab": {
     "base_uri": "https://localhost:8080/"
    },
    "id": "KAMz1RPGMN_A",
    "outputId": "5795b25f-9a63-4815-81bb-f541c046df6f"
   },
   "outputs": [
    {
     "name": "stdout",
     "output_type": "stream",
     "text": [
      "Final Accuracy: 1.0000\n",
      "All images were correctly classified!\n"
     ]
    }
   ],
   "source": [
    "# Get predictions for all data points\n",
    "predictions = np.dot(X, weights) + bias\n",
    "y_pred = np.where(predictions >= 0, 1, 0)\n",
    "\n",
    "# Calculate final accuracy\n",
    "final_accuracy = np.mean(y_pred == y)\n",
    "print(f\"Final Accuracy: {final_accuracy:.4f}\")\n",
    "\n",
    "# Step 5: Visualize Misclassified Images\n",
    "misclassified_idx = np.where(y_pred != y)[0]\n",
    "if len(misclassified_idx) > 0:\n",
    "    fig, axes = plt.subplots(2, 5, figsize=(10, 5))\n",
    "    for ax, idx in zip(axes.flat, misclassified_idx[:10]):  # Show 10 misclassified images\n",
    "        ax.imshow(X[idx].reshape(28, 28), cmap=\"gray\")\n",
    "        ax.set_title(f\"Pred: {y_pred[idx]}, True: {y[idx]}\")\n",
    "        ax.axis(\"off\")\n",
    "    plt.suptitle(\"Misclassified Images\")\n",
    "    plt.show()\n",
    "else:\n",
    "    print(\"All images were correctly classified!\")"
   ]
  },
  {
   "cell_type": "code",
   "execution_count": 3,
   "metadata": {
    "id": "CeEDo-9gNknE"
   },
   "outputs": [
    {
     "name": "stdout",
     "output_type": "stream",
     "text": [
      "Feature matrix shape: (2741, 784)\n",
      "Label vector shape: (2741,)\n"
     ]
    }
   ],
   "source": [
    "import numpy as np\n",
    "import matplotlib.pyplot as plt\n",
    "import pandas as pd\n",
    "\n",
    "\n",
    "df1 = pd.read_csv(\"mnist_3_and_5.csv\")  # Add the correct file path if necessary\n",
    "\n",
    "# Extract features and labels\n",
    "X1 = df1.drop(columns=[\"label\"]).values  # 784 pixels\n",
    "y1 = df1[\"label\"].values  # Labels (0 or 1)\n",
    "\n",
    "# Check the shape of the features and labels\n",
    "print(\"Feature matrix shape:\", X1.shape)\n",
    "print(\"Label vector shape:\", y1.shape)"
   ]
  },
  {
   "cell_type": "code",
   "execution_count": 5,
   "metadata": {},
   "outputs": [],
   "source": [
    "y1 = np.where(y1 == 5, 1, 0)"
   ]
  },
  {
   "cell_type": "code",
   "execution_count": 6,
   "metadata": {},
   "outputs": [],
   "source": [
    "# Initialize weights and bias\n",
    "weights = np.zeros(X1.shape[1])  # 784 weights (one for each pixel)\n",
    "bias = 0\n",
    "learning_rate = 0.1\n",
    "epochs = 100"
   ]
  },
  {
   "cell_type": "code",
   "execution_count": 7,
   "metadata": {},
   "outputs": [],
   "source": [
    "def train_perceptron(X, y, weights, bias, learning_rate=0.1, epochs=100):\n",
    "    \"\"\"\n",
    "    Train the perceptron using the Perceptron Learning Algorithm.\n",
    "\n",
    "    Parameters:\n",
    "    - X: Features (input data) as a numpy array of shape (n_samples, n_features)\n",
    "    - y: Labels (true output) as a numpy array of shape (n_samples,)\n",
    "    - weights: Initial weights as a numpy array of shape (n_features,)\n",
    "    - bias: Initial bias value (scalar)\n",
    "    - learning_rate: Learning rate for weight updates (default is 0.1)\n",
    "    - epochs: Number of iterations to train the model (default is 100)\n",
    "\n",
    "    Returns:\n",
    "    - weights: Updated weights after training\n",
    "    - bias: Updated bias after training\n",
    "    - accuracy: Total correct prediction.\n",
    "    \"\"\"\n",
    "    # Step 3: Perceptron Learning Algorithm\n",
    "    # Your Code here#\n",
    "    n_samples = X.shape[0]\n",
    "\n",
    "    for epoch in range(epochs):\n",
    "        correct_predictions = 0\n",
    "        \n",
    "        for i in range(n_samples):\n",
    "            output = np.dot(X[i], weights) + bias\n",
    "            y_pred = 1 if output >= 0 else 0\n",
    "            \n",
    "            if y_pred != y[i]:\n",
    "                update = learning_rate * (y[i] - y_pred)\n",
    "                weights += update * X[i]\n",
    "                bias += update\n",
    "            else:\n",
    "                correct_predictions += 1\n",
    "        \n",
    "        accuracy = correct_predictions / n_samples\n",
    "        \n",
    "        if epoch % 10 == 0 or epoch == epochs - 1:\n",
    "            print(f\"Epoch {epoch + 1}/{epochs} - Accuracy: {accuracy:.4f}\")\n",
    "\n",
    "\n",
    "    return weights, bias, accuracy"
   ]
  },
  {
   "cell_type": "code",
   "execution_count": 8,
   "metadata": {},
   "outputs": [
    {
     "name": "stdout",
     "output_type": "stream",
     "text": [
      "Epoch 1/100 - Accuracy: 0.9157\n",
      "Epoch 11/100 - Accuracy: 0.9599\n",
      "Epoch 21/100 - Accuracy: 0.9701\n",
      "Epoch 31/100 - Accuracy: 0.9668\n",
      "Epoch 41/100 - Accuracy: 0.9759\n",
      "Epoch 51/100 - Accuracy: 0.9763\n",
      "Epoch 61/100 - Accuracy: 0.9752\n",
      "Epoch 71/100 - Accuracy: 0.9810\n",
      "Epoch 81/100 - Accuracy: 0.9792\n",
      "Epoch 91/100 - Accuracy: 0.9825\n",
      "Epoch 100/100 - Accuracy: 0.9858\n",
      "The Final Accuracy is:  0.9857716161984678\n"
     ]
    }
   ],
   "source": [
    "weights, bias, accuracy = train_perceptron(X1, y1, weights, bias,learning_rate, epochs)\n",
    "\n",
    "# Evaluate the model using the new function\n",
    "print(\"The Final Accuracy is: \", accuracy)"
   ]
  },
  {
   "cell_type": "code",
   "execution_count": null,
   "metadata": {},
   "outputs": [
    {
     "name": "stdout",
     "output_type": "stream",
     "text": [
      "Final Accuracy: 0.9869\n"
     ]
    },
    {
     "data": {
      "image/png": "[encoded data removed]",
      "text/plain": [
       "<Figure size 1000x500 with 10 Axes>"
      ]
     },
     "metadata": {},
     "output_type": "display_data"
    }
   ],
   "source": [
    "# Get predictions using the perceptron decision function\n",
    "predictions = np.dot(X1, weights) + bias\n",
    "y_pred = np.where(predictions >= 0, 1, 0)\n",
    "\n",
    "# Calculate final accuracy\n",
    "final_accuracy = np.mean(y_pred == y1)\n",
    "print(f\"Final Accuracy: {final_accuracy:.4f}\")\n",
    "\n",
    "# Step 5: Visualize Misclassified Images with Labels\n",
    "misclassified_idx = np.where(y_pred != y1)[0]\n",
    "\n",
    "if len(misclassified_idx) > 0:\n",
    "    fig, axes = plt.subplots(2, 5, figsize=(10, 5))\n",
    "    for ax, idx in zip(axes.flat, misclassified_idx[:10]):  \n",
    "        ax.imshow(X1[idx].reshape(28, 28), cmap=\"gray\")\n",
    "        ax.set_title(f\"Predicted: {y_pred[idx]}, True: {y1[idx]}\")\n",
    "        ax.axis(\"off\")\n",
    "    plt.suptitle(\"Misclassified Images\")\n",
    "    plt.show()\n",
    "else:\n",
    "    print(\"All images were correctly classified!\")"
   ]
  },
  {
   "cell_type": "markdown",
   "metadata": {},
   "source": []
  }
 ],
 "metadata": {
  "colab": {
   "provenance": []
  },
  "kernelspec": {
   "display_name": "Python 3",
   "name": "python3"
  },
  "language_info": {
   "codemirror_mode": {
    "name": "ipython",
    "version": 3
   },
   "file_extension": ".py",
   "mimetype": "text/x-python",
   "name": "python",
   "nbconvert_exporter": "python",
   "pygments_lexer": "ipython3",
   "version": "3.10.6"
  }
 },
 "nbformat": 4,
 "nbformat_minor": 0
}
